{
 "cells": [
  {
   "cell_type": "code",
   "execution_count": null,
   "id": "b05b95d3-6c4c-497e-96cf-9f41eb0e4a04",
   "metadata": {},
   "outputs": [],
   "source": []
  },
  {
   "cell_type": "markdown",
   "id": "a8b83f37-4620-4982-88d4-c0bbb0d7c4be",
   "metadata": {
    "tags": []
   },
   "source": [
    "| Data Science Tools |\n",
    "| -------------------|\n",
    "| Python  |\n",
    "|         |\n",
    "| Keras   |\n",
    "|         | \n",
    "| PyTorch |\n",
    "|         |\n"
   ]
  },
  {
   "cell_type": "code",
   "execution_count": 3,
   "id": "d6b911d5-b8e9-4013-bd45-1e7423bbddff",
   "metadata": {
    "tags": []
   },
   "outputs": [
    {
     "data": {
      "text/plain": [
       "17"
      ]
     },
     "execution_count": 3,
     "metadata": {},
     "output_type": "execute_result"
    }
   ],
   "source": [
    "# This is a simple arithmetic expression to mutiply and then to add integers.\n",
    "(3*4)+5\n"
   ]
  },
  {
   "cell_type": "code",
   "execution_count": 4,
   "id": "36c7971d-ee6e-4c31-a7dd-1eca6fca0dcc",
   "metadata": {
    "tags": []
   },
   "outputs": [
    {
     "data": {
      "text/plain": [
       "3"
      ]
     },
     "execution_count": 4,
     "metadata": {},
     "output_type": "execute_result"
    }
   ],
   "source": [
    "#This will also convert 200 minutes to hours by dividing 60.\n",
    "200//60"
   ]
  },
  {
   "cell_type": "markdown",
   "id": "8416f142-8cf6-45fa-b897-a1a7465da378",
   "metadata": {},
   "source": [
    "**Objectives**"
   ]
  },
  {
   "cell_type": "markdown",
   "id": "555c7c22-6f66-4433-a401-453ac75021cd",
   "metadata": {
    "tags": []
   },
   "source": [
    "- How to make a small table.\n",
    "- How to execute an arithmetic argument.\n",
    "- Different open sources for Data Scientists.\n",
    "- Creating and naming a notebook.\n",
    "- How to make an unstructured list."
   ]
  },
  {
   "cell_type": "markdown",
   "id": "62074f13-3bdb-4e8b-9cc3-3db809b729c0",
   "metadata": {},
   "source": [
    "## Author\n",
    "Tangie Badal Anderson"
   ]
  }
 ],
 "metadata": {
  "kernelspec": {
   "display_name": "Python",
   "language": "python",
   "name": "conda-env-python-py"
  },
  "language_info": {
   "codemirror_mode": {
    "name": "ipython",
    "version": 3
   },
   "file_extension": ".py",
   "mimetype": "text/x-python",
   "name": "python",
   "nbconvert_exporter": "python",
   "pygments_lexer": "ipython3",
   "version": "3.7.12"
  }
 },
 "nbformat": 4,
 "nbformat_minor": 5
}
